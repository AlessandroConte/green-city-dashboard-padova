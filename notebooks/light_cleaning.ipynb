{
 "cells": [
  {
   "cell_type": "code",
   "execution_count": 14,
   "id": "72a7578a-fa58-436c-8e3c-f6a076333cfb",
   "metadata": {},
   "outputs": [
    {
     "name": "stdout",
     "output_type": "stream",
     "text": [
      "📂 Raw ds: 2280 rows, 8 cols\n",
      "✅ Light preprocessing done. File saved in: C:\\Users\\aless\\Desktop\\gcd_project\\green-city-dashboard-padova\\data\\processed\\padua_1505_1708_clean.csv\n"
     ]
    }
   ],
   "source": [
    "import pandas as pd\n",
    "from datetime import datetime\n",
    "import os\n",
    "\n",
    "# === Parameters ===\n",
    "# Dataset file path \n",
    "raw_data_path = r\"C:\\Users\\aless\\Desktop\\gcd_project\\green-city-dashboard-padova\\data\\raw\\padua_1505_1708_raw.csv\"\n",
    "processed_data_path = r\"C:\\Users\\aless\\Desktop\\gcd_project\\green-city-dashboard-padova\\data\\processed\\padua_1505_1708_clean.csv\"\n",
    "\n",
    "# ===  Raw data update ===\n",
    "df = pd.read_csv(raw_data_path, sep=',', encoding='utf-8')  \n",
    "print(f\"📂 Raw ds: {df.shape[0]} rows, {df.shape[1]} cols\")\n",
    "\n",
    "# === Col rename ===\n",
    "df.columns = (\n",
    "    df.columns\n",
    "    .str.strip()\n",
    "    .str.lower()\n",
    "    .str.replace(\" \", \"_\")\n",
    "    .str.replace(\"-\", \"_\")\n",
    ")\n",
    "\n",
    "# === Date to datetime ===\n",
    "if \"time\" in df.columns:\n",
    "    df[\"time\"] = pd.to_datetime(df[\"time\"], errors='coerce', format=\"%Y-%m-%dT%H:%M\")\n",
    "    \n",
    "# === Remove missing name rows ===\n",
    "df = df.dropna(subset=[\"time\"])\n",
    "\n",
    "# === Missing values ===\n",
    "numeric_cols = df.select_dtypes(include=['float64', 'int64']).columns\n",
    "df[numeric_cols] = df[numeric_cols].ffill()  \n",
    "df[numeric_cols] = df[numeric_cols].bfill()  \n",
    "\n",
    "# === Remove duplicates ===\n",
    "df = df.drop_duplicates()\n",
    "\n",
    "# === Data sorting ===\n",
    "df = df.sort_values(by=\"time\")\n",
    "\n",
    "# === Clean ds save ===\n",
    "df.to_csv(processed_data_path, index=False, encoding='utf-8')\n",
    "print(f\"✅ Light preprocessing done. File saved in: {processed_data_path}\")\n"
   ]
  },
  {
   "cell_type": "code",
   "execution_count": null,
   "id": "7fb94805-7437-4d2f-a07a-1ba373c5a455",
   "metadata": {},
   "outputs": [],
   "source": []
  },
  {
   "cell_type": "code",
   "execution_count": null,
   "id": "c73fe86c-bbb0-4471-b245-1df143575a19",
   "metadata": {},
   "outputs": [],
   "source": []
  }
 ],
 "metadata": {
  "kernelspec": {
   "display_name": "Python 3 (ipykernel)",
   "language": "python",
   "name": "python3"
  },
  "language_info": {
   "codemirror_mode": {
    "name": "ipython",
    "version": 3
   },
   "file_extension": ".py",
   "mimetype": "text/x-python",
   "name": "python",
   "nbconvert_exporter": "python",
   "pygments_lexer": "ipython3",
   "version": "3.12.6"
  }
 },
 "nbformat": 4,
 "nbformat_minor": 5
}
